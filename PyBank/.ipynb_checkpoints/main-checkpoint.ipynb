{
 "cells": [
  {
   "cell_type": "code",
   "execution_count": 1,
   "id": "35415440-cd07-4723-b3a1-169c4d662493",
   "metadata": {},
   "outputs": [],
   "source": [
    "import pandas as pd"
   ]
  },
  {
   "cell_type": "code",
   "execution_count": 2,
   "id": "0b8ef5f7-ca42-4f86-86a3-09da3d2832c9",
   "metadata": {},
   "outputs": [],
   "source": [
    "import numpy as np"
   ]
  },
  {
   "cell_type": "code",
   "execution_count": 3,
   "id": "db3de9ab-8e35-4e99-b21a-2cfda603698b",
   "metadata": {},
   "outputs": [],
   "source": [
    "budget_data = pd.read_csv('budget_data.txt')"
   ]
  },
  {
   "cell_type": "code",
   "execution_count": 4,
   "id": "a54f7a8e-60b2-4687-9f3a-6946b7909613",
   "metadata": {},
   "outputs": [
    {
     "data": {
      "text/html": [
       "<div>\n",
       "<style scoped>\n",
       "    .dataframe tbody tr th:only-of-type {\n",
       "        vertical-align: middle;\n",
       "    }\n",
       "\n",
       "    .dataframe tbody tr th {\n",
       "        vertical-align: top;\n",
       "    }\n",
       "\n",
       "    .dataframe thead th {\n",
       "        text-align: right;\n",
       "    }\n",
       "</style>\n",
       "<table border=\"1\" class=\"dataframe\">\n",
       "  <thead>\n",
       "    <tr style=\"text-align: right;\">\n",
       "      <th></th>\n",
       "      <th>Date</th>\n",
       "      <th>Profit/Losses</th>\n",
       "    </tr>\n",
       "  </thead>\n",
       "  <tbody>\n",
       "    <tr>\n",
       "      <th>0</th>\n",
       "      <td>Jan-2010</td>\n",
       "      <td>867884</td>\n",
       "    </tr>\n",
       "    <tr>\n",
       "      <th>1</th>\n",
       "      <td>Feb-2010</td>\n",
       "      <td>984655</td>\n",
       "    </tr>\n",
       "    <tr>\n",
       "      <th>2</th>\n",
       "      <td>Mar-2010</td>\n",
       "      <td>322013</td>\n",
       "    </tr>\n",
       "    <tr>\n",
       "      <th>3</th>\n",
       "      <td>Apr-2010</td>\n",
       "      <td>-69417</td>\n",
       "    </tr>\n",
       "    <tr>\n",
       "      <th>4</th>\n",
       "      <td>May-2010</td>\n",
       "      <td>310503</td>\n",
       "    </tr>\n",
       "    <tr>\n",
       "      <th>...</th>\n",
       "      <td>...</td>\n",
       "      <td>...</td>\n",
       "    </tr>\n",
       "    <tr>\n",
       "      <th>81</th>\n",
       "      <td>Oct-2016</td>\n",
       "      <td>102685</td>\n",
       "    </tr>\n",
       "    <tr>\n",
       "      <th>82</th>\n",
       "      <td>Nov-2016</td>\n",
       "      <td>795914</td>\n",
       "    </tr>\n",
       "    <tr>\n",
       "      <th>83</th>\n",
       "      <td>Dec-2016</td>\n",
       "      <td>60988</td>\n",
       "    </tr>\n",
       "    <tr>\n",
       "      <th>84</th>\n",
       "      <td>Jan-2017</td>\n",
       "      <td>138230</td>\n",
       "    </tr>\n",
       "    <tr>\n",
       "      <th>85</th>\n",
       "      <td>Feb-2017</td>\n",
       "      <td>671099</td>\n",
       "    </tr>\n",
       "  </tbody>\n",
       "</table>\n",
       "<p>86 rows × 2 columns</p>\n",
       "</div>"
      ],
      "text/plain": [
       "        Date  Profit/Losses\n",
       "0   Jan-2010         867884\n",
       "1   Feb-2010         984655\n",
       "2   Mar-2010         322013\n",
       "3   Apr-2010         -69417\n",
       "4   May-2010         310503\n",
       "..       ...            ...\n",
       "81  Oct-2016         102685\n",
       "82  Nov-2016         795914\n",
       "83  Dec-2016          60988\n",
       "84  Jan-2017         138230\n",
       "85  Feb-2017         671099\n",
       "\n",
       "[86 rows x 2 columns]"
      ]
     },
     "execution_count": 4,
     "metadata": {},
     "output_type": "execute_result"
    }
   ],
   "source": [
    "budget_data"
   ]
  },
  {
   "cell_type": "code",
   "execution_count": 5,
   "id": "f5910fee-3f0c-4cee-a09c-a3d430b110d9",
   "metadata": {},
   "outputs": [],
   "source": [
    "dates = list(budget_data['Date'])"
   ]
  },
  {
   "cell_type": "code",
   "execution_count": 6,
   "id": "009b66dd-04df-430e-af2c-43c8b5fd8669",
   "metadata": {},
   "outputs": [],
   "source": [
    "pnl = list(budget_data['Profit/Losses'])"
   ]
  },
  {
   "cell_type": "code",
   "execution_count": 7,
   "id": "3e87e33c-0099-4bb2-bf97-a24bb2e3dc95",
   "metadata": {},
   "outputs": [],
   "source": [
    "total_months = len(dates)"
   ]
  },
  {
   "cell_type": "code",
   "execution_count": 8,
   "id": "0a65f09c-fe82-465b-816d-c60e89965433",
   "metadata": {},
   "outputs": [
    {
     "name": "stdout",
     "output_type": "stream",
     "text": [
      "$38382578\n"
     ]
    }
   ],
   "source": [
    "print(f\"${sum(pnl)}\")"
   ]
  },
  {
   "cell_type": "code",
   "execution_count": 9,
   "id": "13374e02-9fb7-40b7-bd0a-d1c873855551",
   "metadata": {},
   "outputs": [],
   "source": [
    "def pnl_change(old_pnl,new_pnl):\n",
    "    return new_pnl - old_pnl"
   ]
  },
  {
   "cell_type": "code",
   "execution_count": 10,
   "id": "c55b7366-0154-4f71-ac8b-06ddc21c7ea5",
   "metadata": {},
   "outputs": [],
   "source": [
    "daily_change = []\n",
    "\n",
    "for i in range(0,len(pnl)-1):\n",
    "    output = pnl_change(pnl[i],pnl[i+1])\n",
    "    daily_change.append(output)\n",
    "    "
   ]
  },
  {
   "cell_type": "code",
   "execution_count": null,
   "id": "fae73dfb-dd5f-4136-82e8-fe7afb788c00",
   "metadata": {},
   "outputs": [],
   "source": [
    "daily_change"
   ]
  },
  {
   "cell_type": "code",
   "execution_count": null,
   "id": "c9b7d82d-a764-496f-97d5-396d0275d4ee",
   "metadata": {},
   "outputs": [],
   "source": [
    "daily_change"
   ]
  },
  {
   "cell_type": "code",
   "execution_count": 13,
   "id": "6bd1979e-6260-4428-9b06-ddf01d37bab0",
   "metadata": {},
   "outputs": [],
   "source": [
    "avg_change = round(sum(daily_change) / len(daily_change),2)"
   ]
  },
  {
   "cell_type": "code",
   "execution_count": 14,
   "id": "806a0a4c-1c26-48aa-8b21-24edb88d76e3",
   "metadata": {},
   "outputs": [
    {
     "data": {
      "text/plain": [
       "-2315.12"
      ]
     },
     "execution_count": 14,
     "metadata": {},
     "output_type": "execute_result"
    }
   ],
   "source": [
    "avg_change"
   ]
  },
  {
   "cell_type": "code",
   "execution_count": 15,
   "id": "e5fa6cd7-b6da-401c-9709-e1a1cca987c3",
   "metadata": {},
   "outputs": [
    {
     "data": {
      "text/plain": [
       "1926159"
      ]
     },
     "execution_count": 15,
     "metadata": {},
     "output_type": "execute_result"
    }
   ],
   "source": [
    "max(daily_change)"
   ]
  },
  {
   "cell_type": "code",
   "execution_count": 16,
   "id": "c5b42fa3-820b-4155-955e-6c496e1baacd",
   "metadata": {},
   "outputs": [
    {
     "data": {
      "text/plain": [
       "-2196167"
      ]
     },
     "execution_count": 16,
     "metadata": {},
     "output_type": "execute_result"
    }
   ],
   "source": [
    "min(daily_change)"
   ]
  },
  {
   "cell_type": "code",
   "execution_count": 17,
   "id": "df91d2af-96f6-4eec-9aee-f8d34b81d7c7",
   "metadata": {},
   "outputs": [],
   "source": [
    "daily_change.insert(0,'')"
   ]
  },
  {
   "cell_type": "code",
   "execution_count": 18,
   "id": "6560f3d5-a505-4a22-a6bd-d824bb77d4ac",
   "metadata": {},
   "outputs": [
    {
     "data": {
      "text/plain": [
       "86"
      ]
     },
     "execution_count": 18,
     "metadata": {},
     "output_type": "execute_result"
    }
   ],
   "source": [
    "len(daily_change)"
   ]
  },
  {
   "cell_type": "code",
   "execution_count": 19,
   "id": "d82156a4-f4f4-4fa2-b7fb-9af303eff500",
   "metadata": {},
   "outputs": [],
   "source": [
    "change_df = pd.DataFrame({'Date':dates,'Change':daily_change})"
   ]
  },
  {
   "cell_type": "code",
   "execution_count": 20,
   "id": "a5ed11d5-3050-4c9f-ae03-9ff136f8bcdf",
   "metadata": {},
   "outputs": [
    {
     "data": {
      "text/html": [
       "<div>\n",
       "<style scoped>\n",
       "    .dataframe tbody tr th:only-of-type {\n",
       "        vertical-align: middle;\n",
       "    }\n",
       "\n",
       "    .dataframe tbody tr th {\n",
       "        vertical-align: top;\n",
       "    }\n",
       "\n",
       "    .dataframe thead th {\n",
       "        text-align: right;\n",
       "    }\n",
       "</style>\n",
       "<table border=\"1\" class=\"dataframe\">\n",
       "  <thead>\n",
       "    <tr style=\"text-align: right;\">\n",
       "      <th></th>\n",
       "      <th>Date</th>\n",
       "      <th>Change</th>\n",
       "    </tr>\n",
       "  </thead>\n",
       "  <tbody>\n",
       "    <tr>\n",
       "      <th>0</th>\n",
       "      <td>Jan-2010</td>\n",
       "      <td></td>\n",
       "    </tr>\n",
       "    <tr>\n",
       "      <th>1</th>\n",
       "      <td>Feb-2010</td>\n",
       "      <td>116771</td>\n",
       "    </tr>\n",
       "    <tr>\n",
       "      <th>2</th>\n",
       "      <td>Mar-2010</td>\n",
       "      <td>-662642</td>\n",
       "    </tr>\n",
       "    <tr>\n",
       "      <th>3</th>\n",
       "      <td>Apr-2010</td>\n",
       "      <td>-391430</td>\n",
       "    </tr>\n",
       "    <tr>\n",
       "      <th>4</th>\n",
       "      <td>May-2010</td>\n",
       "      <td>379920</td>\n",
       "    </tr>\n",
       "    <tr>\n",
       "      <th>...</th>\n",
       "      <td>...</td>\n",
       "      <td>...</td>\n",
       "    </tr>\n",
       "    <tr>\n",
       "      <th>81</th>\n",
       "      <td>Oct-2016</td>\n",
       "      <td>-665765</td>\n",
       "    </tr>\n",
       "    <tr>\n",
       "      <th>82</th>\n",
       "      <td>Nov-2016</td>\n",
       "      <td>693229</td>\n",
       "    </tr>\n",
       "    <tr>\n",
       "      <th>83</th>\n",
       "      <td>Dec-2016</td>\n",
       "      <td>-734926</td>\n",
       "    </tr>\n",
       "    <tr>\n",
       "      <th>84</th>\n",
       "      <td>Jan-2017</td>\n",
       "      <td>77242</td>\n",
       "    </tr>\n",
       "    <tr>\n",
       "      <th>85</th>\n",
       "      <td>Feb-2017</td>\n",
       "      <td>532869</td>\n",
       "    </tr>\n",
       "  </tbody>\n",
       "</table>\n",
       "<p>86 rows × 2 columns</p>\n",
       "</div>"
      ],
      "text/plain": [
       "        Date   Change\n",
       "0   Jan-2010         \n",
       "1   Feb-2010   116771\n",
       "2   Mar-2010  -662642\n",
       "3   Apr-2010  -391430\n",
       "4   May-2010   379920\n",
       "..       ...      ...\n",
       "81  Oct-2016  -665765\n",
       "82  Nov-2016   693229\n",
       "83  Dec-2016  -734926\n",
       "84  Jan-2017    77242\n",
       "85  Feb-2017   532869\n",
       "\n",
       "[86 rows x 2 columns]"
      ]
     },
     "execution_count": 20,
     "metadata": {},
     "output_type": "execute_result"
    }
   ],
   "source": [
    "change_df"
   ]
  },
  {
   "cell_type": "code",
   "execution_count": 23,
   "id": "14bad689-4f9e-490d-9384-1d46c9a0d929",
   "metadata": {},
   "outputs": [],
   "source": [
    "change_df['Change'] = pd.to_numeric(change_df['Change'])"
   ]
  },
  {
   "cell_type": "code",
   "execution_count": 26,
   "id": "a1fa8906-b82b-4bc9-9815-63e79d4a8cf7",
   "metadata": {},
   "outputs": [
    {
     "data": {
      "text/plain": [
       "Date       Feb-2012\n",
       "Change    1926159.0\n",
       "Name: 25, dtype: object"
      ]
     },
     "execution_count": 26,
     "metadata": {},
     "output_type": "execute_result"
    }
   ],
   "source": [
    "change_df.loc[change_df['Change'].idxmax()]"
   ]
  },
  {
   "cell_type": "code",
   "execution_count": 28,
   "id": "bbe59bda-b6d5-451a-9e19-2886b9bc6c48",
   "metadata": {},
   "outputs": [],
   "source": [
    "max_change = change_df[change_df.Change == change_df.Change.max()]"
   ]
  },
  {
   "cell_type": "code",
   "execution_count": 29,
   "id": "fafdad04-77df-457c-a703-7ba44f6f8ded",
   "metadata": {},
   "outputs": [
    {
     "data": {
      "text/html": [
       "<div>\n",
       "<style scoped>\n",
       "    .dataframe tbody tr th:only-of-type {\n",
       "        vertical-align: middle;\n",
       "    }\n",
       "\n",
       "    .dataframe tbody tr th {\n",
       "        vertical-align: top;\n",
       "    }\n",
       "\n",
       "    .dataframe thead th {\n",
       "        text-align: right;\n",
       "    }\n",
       "</style>\n",
       "<table border=\"1\" class=\"dataframe\">\n",
       "  <thead>\n",
       "    <tr style=\"text-align: right;\">\n",
       "      <th></th>\n",
       "      <th>Date</th>\n",
       "      <th>Change</th>\n",
       "    </tr>\n",
       "  </thead>\n",
       "  <tbody>\n",
       "    <tr>\n",
       "      <th>25</th>\n",
       "      <td>Feb-2012</td>\n",
       "      <td>1926159.0</td>\n",
       "    </tr>\n",
       "  </tbody>\n",
       "</table>\n",
       "</div>"
      ],
      "text/plain": [
       "        Date     Change\n",
       "25  Feb-2012  1926159.0"
      ]
     },
     "execution_count": 29,
     "metadata": {},
     "output_type": "execute_result"
    }
   ],
   "source": [
    "max_change"
   ]
  },
  {
   "cell_type": "code",
   "execution_count": 30,
   "id": "3561632e-25f3-4ec0-83e5-7dab02e74b7b",
   "metadata": {},
   "outputs": [],
   "source": [
    "min_change = change_df[change_df.Change == change_df.Change.min()]"
   ]
  },
  {
   "cell_type": "code",
   "execution_count": 31,
   "id": "4f67cca2-5d30-4716-bc8a-2ce1331f090b",
   "metadata": {},
   "outputs": [
    {
     "data": {
      "text/html": [
       "<div>\n",
       "<style scoped>\n",
       "    .dataframe tbody tr th:only-of-type {\n",
       "        vertical-align: middle;\n",
       "    }\n",
       "\n",
       "    .dataframe tbody tr th {\n",
       "        vertical-align: top;\n",
       "    }\n",
       "\n",
       "    .dataframe thead th {\n",
       "        text-align: right;\n",
       "    }\n",
       "</style>\n",
       "<table border=\"1\" class=\"dataframe\">\n",
       "  <thead>\n",
       "    <tr style=\"text-align: right;\">\n",
       "      <th></th>\n",
       "      <th>Date</th>\n",
       "      <th>Change</th>\n",
       "    </tr>\n",
       "  </thead>\n",
       "  <tbody>\n",
       "    <tr>\n",
       "      <th>44</th>\n",
       "      <td>Sep-2013</td>\n",
       "      <td>-2196167.0</td>\n",
       "    </tr>\n",
       "  </tbody>\n",
       "</table>\n",
       "</div>"
      ],
      "text/plain": [
       "        Date     Change\n",
       "44  Sep-2013 -2196167.0"
      ]
     },
     "execution_count": 31,
     "metadata": {},
     "output_type": "execute_result"
    }
   ],
   "source": [
    "min_change"
   ]
  },
  {
   "cell_type": "code",
   "execution_count": 56,
   "id": "3629d599-284a-48d0-892a-df74ae08849a",
   "metadata": {},
   "outputs": [
    {
     "name": "stdout",
     "output_type": "stream",
     "text": [
      "Financial Analysis\n",
      "-------------------------------\n",
      "Total Months: 86\n",
      "Total PnL: $38382578\n",
      "Average Change: $-2315.12\n",
      "Greatest increase in profits: \n",
      "        Date     Change\n",
      "25  Feb-2012  1926159.0\n",
      "\n",
      "Greatest decrease in profits:\n",
      "        Date     Change\n",
      "44  Sep-2013 -2196167.0\n"
     ]
    }
   ],
   "source": [
    "print(f\"Financial Analysis\\n-------------------------------\\nTotal Months: {total_months}\")\n",
    "print(f\"Total PnL: ${sum(pnl)}\")\n",
    "print(f\"Average Change: ${avg_change}\")\n",
    "print(f\"Greatest increase in profits: \\n{max_change}\")\n",
    "\n",
    "print(f\"\\nGreatest decrease in profits:\\n{min_change}\")"
   ]
  },
  {
   "cell_type": "code",
   "execution_count": null,
   "id": "5f15758d-734d-4ccb-85fe-ae1f559b2f5b",
   "metadata": {},
   "outputs": [],
   "source": []
  }
 ],
 "metadata": {
  "kernelspec": {
   "display_name": "Python 3",
   "language": "python",
   "name": "python3"
  },
  "language_info": {
   "codemirror_mode": {
    "name": "ipython",
    "version": 3
   },
   "file_extension": ".py",
   "mimetype": "text/x-python",
   "name": "python",
   "nbconvert_exporter": "python",
   "pygments_lexer": "ipython3",
   "version": "3.8.8"
  }
 },
 "nbformat": 4,
 "nbformat_minor": 5
}
