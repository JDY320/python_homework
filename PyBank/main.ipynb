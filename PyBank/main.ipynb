{
 "cells": [
  {
   "cell_type": "code",
   "execution_count": null,
   "id": "35415440-cd07-4723-b3a1-169c4d662493",
   "metadata": {},
   "outputs": [],
   "source": [
    "import pandas as pd"
   ]
  },
  {
   "cell_type": "code",
   "execution_count": null,
   "id": "0b8ef5f7-ca42-4f86-86a3-09da3d2832c9",
   "metadata": {},
   "outputs": [],
   "source": [
    "import numpy as np"
   ]
  },
  {
   "cell_type": "code",
   "execution_count": null,
   "id": "db3de9ab-8e35-4e99-b21a-2cfda603698b",
   "metadata": {},
   "outputs": [],
   "source": [
    "budget_data = pd.read_csv('budget_data.txt')"
   ]
  },
  {
   "cell_type": "code",
   "execution_count": null,
   "id": "a54f7a8e-60b2-4687-9f3a-6946b7909613",
   "metadata": {},
   "outputs": [],
   "source": [
    "budget_data"
   ]
  },
  {
   "cell_type": "code",
   "execution_count": null,
   "id": "f5910fee-3f0c-4cee-a09c-a3d430b110d9",
   "metadata": {},
   "outputs": [],
   "source": [
    "dates = list(budget_data['Date'])"
   ]
  },
  {
   "cell_type": "code",
   "execution_count": null,
   "id": "009b66dd-04df-430e-af2c-43c8b5fd8669",
   "metadata": {},
   "outputs": [],
   "source": [
    "pnl = list(budget_data['Profit/Losses'])"
   ]
  },
  {
   "cell_type": "code",
   "execution_count": null,
   "id": "3e87e33c-0099-4bb2-bf97-a24bb2e3dc95",
   "metadata": {},
   "outputs": [],
   "source": [
    "total_months = len(dates)"
   ]
  },
  {
   "cell_type": "code",
   "execution_count": null,
   "id": "0a65f09c-fe82-465b-816d-c60e89965433",
   "metadata": {},
   "outputs": [],
   "source": [
    "print(f\"${sum(pnl)}\")"
   ]
  },
  {
   "cell_type": "code",
   "execution_count": null,
   "id": "13374e02-9fb7-40b7-bd0a-d1c873855551",
   "metadata": {},
   "outputs": [],
   "source": [
    "def pnl_change(old_pnl,new_pnl):\n",
    "    return new_pnl - old_pnl"
   ]
  },
  {
   "cell_type": "code",
   "execution_count": null,
   "id": "c55b7366-0154-4f71-ac8b-06ddc21c7ea5",
   "metadata": {},
   "outputs": [],
   "source": [
    "daily_change = []\n",
    "\n",
    "for i in range(0,len(pnl)-1):\n",
    "    output = pnl_change(pnl[i],pnl[i+1])\n",
    "    daily_change.append(output)\n",
    "    "
   ]
  },
  {
   "cell_type": "code",
   "execution_count": null,
   "id": "fae73dfb-dd5f-4136-82e8-fe7afb788c00",
   "metadata": {},
   "outputs": [],
   "source": [
    "daily_change"
   ]
  },
  {
   "cell_type": "code",
   "execution_count": null,
   "id": "c9b7d82d-a764-496f-97d5-396d0275d4ee",
   "metadata": {},
   "outputs": [],
   "source": [
    "daily_change"
   ]
  },
  {
   "cell_type": "code",
   "execution_count": null,
   "id": "6bd1979e-6260-4428-9b06-ddf01d37bab0",
   "metadata": {},
   "outputs": [],
   "source": [
    "avg_change = round(sum(daily_change) / len(daily_change),2)"
   ]
  },
  {
   "cell_type": "code",
   "execution_count": null,
   "id": "806a0a4c-1c26-48aa-8b21-24edb88d76e3",
   "metadata": {},
   "outputs": [],
   "source": [
    "avg_change"
   ]
  },
  {
   "cell_type": "code",
   "execution_count": null,
   "id": "e5fa6cd7-b6da-401c-9709-e1a1cca987c3",
   "metadata": {},
   "outputs": [],
   "source": [
    "max(daily_change)"
   ]
  },
  {
   "cell_type": "code",
   "execution_count": null,
   "id": "c5b42fa3-820b-4155-955e-6c496e1baacd",
   "metadata": {},
   "outputs": [],
   "source": [
    "min(daily_change)"
   ]
  },
  {
   "cell_type": "code",
   "execution_count": null,
   "id": "df91d2af-96f6-4eec-9aee-f8d34b81d7c7",
   "metadata": {},
   "outputs": [],
   "source": [
    "daily_change.insert(0,'')"
   ]
  },
  {
   "cell_type": "code",
   "execution_count": null,
   "id": "6560f3d5-a505-4a22-a6bd-d824bb77d4ac",
   "metadata": {},
   "outputs": [],
   "source": [
    "len(daily_change)"
   ]
  },
  {
   "cell_type": "code",
   "execution_count": null,
   "id": "d82156a4-f4f4-4fa2-b7fb-9af303eff500",
   "metadata": {},
   "outputs": [],
   "source": [
    "change_df = pd.DataFrame({'Date':dates,'Change':daily_change})"
   ]
  },
  {
   "cell_type": "code",
   "execution_count": null,
   "id": "a5ed11d5-3050-4c9f-ae03-9ff136f8bcdf",
   "metadata": {},
   "outputs": [],
   "source": [
    "change_df"
   ]
  },
  {
   "cell_type": "code",
   "execution_count": null,
   "id": "14bad689-4f9e-490d-9384-1d46c9a0d929",
   "metadata": {},
   "outputs": [],
   "source": [
    "change_df['Change'] = pd.to_numeric(change_df['Change'])"
   ]
  },
  {
   "cell_type": "code",
   "execution_count": null,
   "id": "a1fa8906-b82b-4bc9-9815-63e79d4a8cf7",
   "metadata": {},
   "outputs": [],
   "source": [
    "change_df.loc[change_df['Change'].idxmax()]"
   ]
  },
  {
   "cell_type": "code",
   "execution_count": null,
   "id": "bbe59bda-b6d5-451a-9e19-2886b9bc6c48",
   "metadata": {},
   "outputs": [],
   "source": [
    "max_change = change_df[change_df.Change == change_df.Change.max()]"
   ]
  },
  {
   "cell_type": "code",
   "execution_count": null,
   "id": "fafdad04-77df-457c-a703-7ba44f6f8ded",
   "metadata": {},
   "outputs": [],
   "source": [
    "max_change"
   ]
  },
  {
   "cell_type": "code",
   "execution_count": null,
   "id": "3561632e-25f3-4ec0-83e5-7dab02e74b7b",
   "metadata": {},
   "outputs": [],
   "source": [
    "min_change = change_df[change_df.Change == change_df.Change.min()]"
   ]
  },
  {
   "cell_type": "code",
   "execution_count": null,
   "id": "4f67cca2-5d30-4716-bc8a-2ce1331f090b",
   "metadata": {},
   "outputs": [],
   "source": [
    "min_change"
   ]
  },
  {
   "cell_type": "code",
   "execution_count": null,
   "id": "3629d599-284a-48d0-892a-df74ae08849a",
   "metadata": {},
   "outputs": [],
   "source": [
    "print(f\"Financial Analysis\\n-------------------------------\\nTotal Months: {total_months}\")\n",
    "print(f\"Total PnL: ${sum(pnl)}\")\n",
    "print(f\"Average Change: ${avg_change}\")\n",
    "print(f\"Greatest increase in profits: \\n{max_change}\")\n",
    "\n",
    "print(f\"\\nGreatest decrease in profits:\\n{min_change}\")"
   ]
  },
  {
   "cell_type": "code",
   "execution_count": null,
   "id": "5f15758d-734d-4ccb-85fe-ae1f559b2f5b",
   "metadata": {},
   "outputs": [],
   "source": [
    "with open('pybank_output.txt', 'w') as f:\n",
    "    f.write(f\"Financial Analysis\\n-------------------------------\\nTotal Months: {total_months}\")\n",
    "    f.write(f\"\\nTotal PnL: ${sum(pnl)}\")\n",
    "    f.write(f\"\\nAverage Change: ${avg_change}\")\n",
    "    f.write(f\"\\nGreatest increase in profits: \\n{max_change}\")\n",
    "    f.write(f\"\\nGreatest decrease in profits:\\n{min_change}\")\n",
    "    "
   ]
  },
  {
   "cell_type": "code",
   "execution_count": null,
   "id": "4322b5b9-11a4-49c6-98c3-ba0fa848b74e",
   "metadata": {},
   "outputs": [],
   "source": []
  }
 ],
 "metadata": {
  "kernelspec": {
   "display_name": "Python 3",
   "language": "python",
   "name": "python3"
  },
  "language_info": {
   "codemirror_mode": {
    "name": "ipython",
    "version": 3
   },
   "file_extension": ".py",
   "mimetype": "text/x-python",
   "name": "python",
   "nbconvert_exporter": "python",
   "pygments_lexer": "ipython3",
   "version": "3.8.8"
  }
 },
 "nbformat": 4,
 "nbformat_minor": 5
}
